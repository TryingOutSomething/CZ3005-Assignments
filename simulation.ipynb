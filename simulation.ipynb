{
 "metadata": {
  "language_info": {
   "codemirror_mode": {
    "name": "ipython",
    "version": 3
   },
   "file_extension": ".py",
   "mimetype": "text/x-python",
   "name": "python",
   "nbconvert_exporter": "python",
   "pygments_lexer": "ipython3",
   "version": "3.7.7-final"
  },
  "orig_nbformat": 2,
  "kernelspec": {
   "name": "Python 3.7.7 64-bit",
   "display_name": "Python 3.7.7 64-bit",
   "metadata": {
    "interpreter": {
     "hash": "389f369071ec769c8513a6756aaa78ddd9b8ac29645f2b7652f4e98f6f6a97d3"
    }
   }
  }
 },
 "nbformat": 4,
 "nbformat_minor": 2,
 "cells": [
  {
   "cell_type": "code",
   "execution_count": 1,
   "metadata": {},
   "outputs": [],
   "source": [
    "from environment import TreasureCube"
   ]
  },
  {
   "cell_type": "code",
   "execution_count": 2,
   "metadata": {},
   "outputs": [],
   "source": [
    "import numpy as np\n",
    "from collections import defaultdict\n",
    "from pprint import pprint\n",
    "from copy import deepcopy"
   ]
  },
  {
   "cell_type": "code",
   "execution_count": 3,
   "metadata": {},
   "outputs": [],
   "source": [
    "action_space = ['left', 'right', 'forward', 'backward', 'up', 'down']\n",
    "DISCOUNT_FACTOR = 0.99\n",
    "THETA = 0.0001"
   ]
  },
  {
   "cell_type": "code",
   "execution_count": 4,
   "metadata": {},
   "outputs": [],
   "source": [
    "def generate_all_possible_states(dimension):\n",
    "    return [f\"{i}{j}{k}\" for i in range(dimension) for j in range(dimension) for k in range(dimension)]"
   ]
  },
  {
   "cell_type": "code",
   "execution_count": 5,
   "metadata": {},
   "outputs": [],
   "source": [
    "env = TreasureCube(max_step=500)\n",
    "state_list = generate_all_possible_states(env.dim)\n",
    "q_table = defaultdict(lambda: np.zeros(len(action_space)))\n",
    "v_table = defaultdict(lambda: 0.0)"
   ]
  },
  {
   "cell_type": "code",
   "execution_count": 6,
   "metadata": {},
   "outputs": [],
   "source": [
    "def populate_q_table(state):\n",
    "    action_index = 0\n",
    "\n",
    "    for action in action_space:\n",
    "        all_possible_actions = get_list_of_possible_actions(action)\n",
    "\n",
    "        action_value = calculate_q_value_for_action(all_possible_actions, action)\n",
    "        q_table[state][action_index] = action_value\n",
    "\n",
    "        action_index += 1"
   ]
  },
  {
   "cell_type": "code",
   "execution_count": 7,
   "metadata": {},
   "outputs": [],
   "source": [
    "def get_list_of_possible_actions(action):\n",
    "    copy_of_action_space = deepcopy(action_space)\n",
    "    if action == 'left':\n",
    "        copy_of_action_space.remove('right')\n",
    "        return copy_of_action_space\n",
    "    if action == 'right':\n",
    "        copy_of_action_space.remove('left')\n",
    "        return copy_of_action_space\n",
    "    if action == 'up':\n",
    "        copy_of_action_space.remove('down')\n",
    "        return copy_of_action_space\n",
    "    if action == 'down':\n",
    "        copy_of_action_space.remove('up')\n",
    "        return copy_of_action_space\n",
    "    if action == 'forward':\n",
    "        copy_of_action_space.remove('backward')\n",
    "        return copy_of_action_space\n",
    "\n",
    "    # if action is backward\n",
    "    copy_of_action_space.remove('forward')\n",
    "    return copy_of_action_space"
   ]
  },
  {
   "cell_type": "code",
   "execution_count": 8,
   "metadata": {},
   "outputs": [],
   "source": [
    "def calculate_q_value_for_action(all_possible_actions, current_state_action):\n",
    "    action_value = 0\n",
    "\n",
    "    for action in all_possible_actions:\n",
    "        # pass in the env in to the function in the future\n",
    "        current_env_state_in_list = env.curr_pos\n",
    "        \n",
    "        reward, _, next_state = env.step(action)\n",
    "\n",
    "        transition_probability = get_transition_probability(action, current_state_action)\n",
    "        action_value += transition_probability * (reward + DISCOUNT_FACTOR * v_table[next_state])\n",
    "\n",
    "        env.curr_pos = current_env_state_in_list\n",
    "    \n",
    "    return action_value"
   ]
  },
  {
   "cell_type": "code",
   "execution_count": 9,
   "metadata": {},
   "outputs": [],
   "source": [
    "def get_transition_probability(action, current_state_action):\n",
    "    return 0.6 if current_state_action == action else 0.1"
   ]
  },
  {
   "cell_type": "code",
   "execution_count": 10,
   "metadata": {
    "tags": []
   },
   "outputs": [],
   "source": [
    "env.reset()\n",
    "while True:\n",
    "    delta = 0\n",
    "\n",
    "    for state in state_list:\n",
    "        populate_q_table(state)\n",
    "\n",
    "        best_action_value_of_q_from_state = np.max(q_table[state])\n",
    "\n",
    "        delta = max(delta, best_action_value_of_q_from_state - v_table[state])\n",
    "\n",
    "        v_table[state] = best_action_value_of_q_from_state\n",
    "    \n",
    "    if delta < THETA:\n",
    "        break"
   ]
  },
  {
   "cell_type": "code",
   "execution_count": 11,
   "metadata": {},
   "outputs": [
    {
     "output_type": "stream",
     "name": "stdout",
     "text": [
      "defaultdict(<function <lambda> at 0x000001C85A130048>,\n            {'000': 5.083734847365726,\n             '001': 5.0507240598497045,\n             '002': 5.155585885845626,\n             '003': 5.108745919637135,\n             '010': 5.030043986894787,\n             '011': 5.114933564408955,\n             '012': 5.09925752492153,\n             '013': 5.070115489519788,\n             '020': 5.056550581831263,\n             '021': 4.998940755345577,\n             '022': 5.098601878119148,\n             '023': 5.083724596770177,\n             '030': 5.086432674748336,\n             '031': 5.024437737081961,\n             '032': 5.055587375613738,\n             '033': 5.063239605948565,\n             '100': 5.100814953457908,\n             '101': 5.108702900230931,\n             '102': 5.068327465520567,\n             '103': 5.027080805668779,\n             '110': 5.006411337794145,\n             '111': 4.999661685795445,\n             '112': 5.166717586950516,\n             '113': 5.086956639361642,\n             '120': 4.9950810883429675,\n             '121': 4.995211238726737,\n             '122': 5.0532398468881565,\n             '123': 5.008609660696728,\n             '130': 5.040204309602178,\n             '131': 4.97427940415604,\n             '132': 4.983267385439977,\n             '133': 4.988937304798361,\n             '200': 5.010907952819511,\n             '201': 4.999373492719459,\n             '202': 4.956145350877399,\n             '203': 5.065263435885374,\n             '210': 5.051829037928245,\n             '211': 4.964567068520604,\n             '212': 4.947519997256492,\n             '213': 4.947977373076494,\n             '220': 4.95955765630721,\n             '221': 4.927582103705445,\n             '222': 4.9442156875112815,\n             '223': 4.955908939173989,\n             '230': 4.980368707025538,\n             '231': 4.973091788194316,\n             '232': 4.9327429378677214,\n             '233': 4.96051408894131,\n             '300': 4.945377632328525,\n             '301': 4.909431995936854,\n             '302': 4.937633126784549,\n             '303': 4.944894757621959,\n             '310': 4.924114582856542,\n             '311': 4.942749674983938,\n             '312': 4.950322836654444,\n             '313': 4.911770502715611,\n             '320': 4.958471204513787,\n             '321': 4.94165216739254,\n             '322': 4.941465944449865,\n             '323': 4.898802358421117,\n             '330': 4.951368805490826,\n             '331': 4.893137757084425,\n             '332': 4.97560269007451,\n             '333': 4.952372312782128})\n"
     ]
    }
   ],
   "source": [
    "pprint(v_table)"
   ]
  },
  {
   "cell_type": "code",
   "execution_count": 12,
   "metadata": {},
   "outputs": [
    {
     "output_type": "stream",
     "name": "stdout",
     "text": [
      "defaultdict(<function <lambda> at 0x000001C84BDCA4C8>,\n            {'000': array([5.04131296, 5.06259361, 5.01525527, 5.08373485, 4.96570781,\n       4.96671931]),\n             '001': array([4.96239466, 4.95047411, 5.01825467, 4.97321547, 5.02251622,\n       5.05072406]),\n             '002': array([5.06537663, 5.12866339, 5.05045731, 5.15558589, 5.11497521,\n       5.12730572]),\n             '003': array([5.09481575, 5.08079819, 5.10874592, 5.06015752, 5.07380792,\n       4.94162425]),\n             '010': array([4.95596262, 5.02163286, 5.01542366, 5.01764328, 5.02486671,\n       5.03004399]),\n             '011': array([5.06343661, 5.06526526, 5.08790401, 5.11493356, 5.01792616,\n       5.11198531]),\n             '012': array([5.07804582, 5.05738495, 4.95577182, 5.09925752, 4.97682869,\n       4.98314394]),\n             '013': array([5.00627039, 5.07011549, 4.98659953, 4.97950622, 4.9630074 ,\n       4.9809492 ]),\n             '020': array([4.98124583, 4.96146499, 4.96366485, 5.05655058, 4.95116968,\n       5.05490027]),\n             '021': array([4.950348  , 4.99616714, 4.96782775, 4.90286137, 4.99894076,\n       4.94983048]),\n             '022': array([4.95307158, 4.95673866, 4.99183959, 5.08124678, 5.04512807,\n       5.09860188]),\n             '023': array([5.08357013, 5.04708513, 5.0837246 , 5.00973863, 5.03689294,\n       4.99677407]),\n             '030': array([4.97543711, 4.9356429 , 5.08643267, 4.93942398, 5.01918763,\n       5.01656206]),\n             '031': array([4.99447734, 4.9854905 , 4.97504496, 5.00690342, 5.02443774,\n       4.96162694]),\n             '032': array([5.01829806, 4.90959032, 5.05558738, 4.95484098, 4.96727991,\n       4.97657565]),\n             '033': array([5.01680283, 5.04753055, 4.99381636, 4.9509564 , 5.06323961,\n       5.01013636]),\n             '100': array([4.96523311, 4.96790992, 4.95506382, 5.02481126, 5.10081495,\n       5.09273627]),\n             '101': array([5.1087029 , 5.05599976, 5.02941274, 4.95524168, 5.04702153,\n       5.09990382]),\n             '102': array([5.06832747, 4.954437  , 4.96560317, 4.89567122, 4.96681088,\n       4.99691193]),\n             '103': array([4.98570927, 4.99171377, 5.02708081, 4.90123145, 4.89541886,\n       4.97047736]),\n             '110': array([5.00641134, 4.96401632, 4.9331152 , 4.95324802, 4.92392457,\n       4.92366497]),\n             '111': array([4.96212241, 4.94711956, 4.96149115, 4.96672562, 4.96416725,\n       4.99966169]),\n             '112': array([4.98503219, 4.97638897, 5.16671759, 4.96733641, 4.96300646,\n       4.92247755]),\n             '113': array([5.08695664, 4.95646428, 4.95026412, 4.98293115, 4.9418409 ,\n       5.00730739]),\n             '120': array([4.93698861, 4.96707057, 4.96267026, 4.93064522, 4.96513202,\n       4.99508109]),\n             '121': array([4.92161463, 4.9269334 , 4.99521124, 4.96285744, 4.93235448,\n       4.96694029]),\n             '122': array([4.96605433, 4.95312441, 5.05323985, 4.96859593, 4.9681822 ,\n       5.02708311]),\n             '123': array([4.99612362, 4.96134423, 4.97733309, 5.00860966, 4.89847102,\n       4.97922479]),\n             '130': array([4.99725457, 5.04020431, 4.9707185 , 4.93450032, 4.96882281,\n       4.94282362]),\n             '131': array([4.96243804, 4.95714175, 4.9742794 , 4.97130645, 4.96314928,\n       4.92080418]),\n             '132': array([4.89847102, 4.98326739, 4.94026274, 4.94282362, 4.92110071,\n       4.94023087]),\n             '133': array([4.90348489, 4.87272465, 4.94473401, 4.93943159, 4.9889373 ,\n       4.97097819]),\n             '200': array([5.01090795, 4.97491608, 4.97775885, 4.97339513, 4.96693277,\n       4.91748021]),\n             '201': array([4.96904088, 4.91025596, 4.99937349, 4.94247498, 4.86102649,\n       4.89596572]),\n             '202': array([4.92209246, 4.93210892, 4.93852402, 4.87505043, 4.9195614 ,\n       4.95614535]),\n             '203': array([4.88908714, 4.99747038, 4.92947941, 4.94116815, 5.06256238,\n       5.06526344]),\n             '210': array([4.94711956, 4.94983572, 5.05182904, 4.94258219, 5.01446992,\n       4.91718009]),\n             '211': array([4.96303266, 4.96456707, 4.88029466, 4.86062053, 4.92330894,\n       4.8876831 ]),\n             '212': array([4.92844405, 4.86533478, 4.93189579, 4.89887891, 4.9098311 ,\n       4.94752   ]),\n             '213': array([4.93941083, 4.87370628, 4.87883978, 4.86062053, 4.94797737,\n       4.92056667]),\n             '220': array([4.93147911, 4.85521369, 4.95955766, 4.92895814, 4.89738002,\n       4.93313841]),\n             '221': array([4.91791944, 4.84251745, 4.85586378, 4.8537019 , 4.87845131,\n       4.9275821 ]),\n             '222': array([4.92226671, 4.87007057, 4.94421569, 4.84846171, 4.92263602,\n       4.87405986]),\n             '223': array([4.95590894, 4.89578006, 4.83283357, 4.92322073, 4.92900887,\n       4.94957361]),\n             '230': array([4.98036871, 4.94168692, 4.95785287, 4.8627007 , 4.97894355,\n       4.96499447]),\n             '231': array([4.97309179, 4.80496551, 4.94548846, 4.94171754, 4.92328476,\n       4.94187668]),\n             '232': array([4.80320741, 4.87851138, 4.84429124, 4.93274294, 4.86106254,\n       4.81840028]),\n             '233': array([4.83818334, 4.88886039, 4.96051409, 4.81500509, 4.90741161,\n       4.91361328]),\n             '300': array([4.94537763, 4.93876201, 4.91435499, 4.94037715, 4.86942074,\n       4.88499583]),\n             '301': array([4.909432  , 4.83559247, 4.78517619, 4.87325352, 4.85463302,\n       4.88556994]),\n             '302': array([4.91533915, 4.912011  , 4.8706983 , 4.93481267, 4.93763313,\n       4.81123625]),\n             '303': array([4.81731196, 4.86035814, 4.87626957, 4.94489476, 4.91260721,\n       4.9072793 ]),\n             '310': array([4.88262218, 4.82955544, 4.82785689, 4.81855737, 4.84117525,\n       4.92411458]),\n             '311': array([4.82610604, 4.82530885, 4.82112919, 4.82784162, 4.84328286,\n       4.94274967]),\n             '312': array([4.93020221, 4.95032284, 4.86932606, 4.9272438 , 4.93428791,\n       4.85504815]),\n             '313': array([4.88749567, 4.85737855, 4.8694722 , 4.86603806, 4.9117705 ,\n       4.86985605]),\n             '320': array([4.886007  , 4.92864338, 4.9584712 , 4.9509564 , 4.88062825,\n       4.86177599]),\n             '321': array([4.89289851, 4.94165217, 4.89769989, 4.83571122, 4.79811428,\n       4.84672563]),\n             '322': array([4.94146594, 4.90100513, 4.86456486, 4.82186826, 4.80679038,\n       4.84059439]),\n             '323': array([4.86432504, 4.83573972, 4.80427095, 4.85825403, 4.81061031,\n       4.89880236]),\n             '330': array([4.95136881, 4.89852026, 4.80036881, 4.9190701 , 4.81198424,\n       4.80308602]),\n             '331': array([4.79847835, 4.80677004, 4.79250779, 4.81679026, 4.8617758 ,\n       4.89313776]),\n             '332': array([4.85316946, 4.83274382, 4.79214607, 4.78259374, 4.97560269,\n       4.87758011]),\n             '333': array([4.80860403, 4.79233358, 4.78984673, 4.85844858, 4.95237231,\n       4.89428565])})\n"
     ]
    }
   ],
   "source": [
    "pprint(q_table)"
   ]
  },
  {
   "cell_type": "code",
   "execution_count": 13,
   "metadata": {},
   "outputs": [],
   "source": [
    "policy = defaultdict(str)"
   ]
  },
  {
   "cell_type": "code",
   "execution_count": 14,
   "metadata": {},
   "outputs": [],
   "source": [
    "env.reset()\n",
    "\n",
    "for state in state_list:\n",
    "    q_table_buffer = np.zeros(len(action_space))\n",
    "\n",
    "    action_index = 0\n",
    "    for action in action_space:\n",
    "        all_possible_actions = get_list_of_possible_actions(action)\n",
    "        \n",
    "        action_value = calculate_q_value_for_action(all_possible_actions, action)\n",
    "        q_table_buffer[action_index] = action_value\n",
    "\n",
    "        action_index += 1\n",
    "    \n",
    "    best_action_index = np.argmax(q_table_buffer)\n",
    "    policy[state] = action_space[best_action_index]"
   ]
  },
  {
   "cell_type": "code",
   "execution_count": 15,
   "metadata": {},
   "outputs": [
    {
     "output_type": "execute_result",
     "data": {
      "text/plain": [
       "defaultdict(str,\n",
       "            {'000': 'down',\n",
       "             '001': 'up',\n",
       "             '002': 'down',\n",
       "             '003': 'left',\n",
       "             '010': 'left',\n",
       "             '011': 'up',\n",
       "             '012': 'left',\n",
       "             '013': 'right',\n",
       "             '020': 'forward',\n",
       "             '021': 'left',\n",
       "             '022': 'backward',\n",
       "             '023': 'forward',\n",
       "             '030': 'left',\n",
       "             '031': 'right',\n",
       "             '032': 'up',\n",
       "             '033': 'up',\n",
       "             '100': 'left',\n",
       "             '101': 'backward',\n",
       "             '102': 'left',\n",
       "             '103': 'down',\n",
       "             '110': 'left',\n",
       "             '111': 'down',\n",
       "             '112': 'up',\n",
       "             '113': 'down',\n",
       "             '120': 'left',\n",
       "             '121': 'forward',\n",
       "             '122': 'up',\n",
       "             '123': 'forward',\n",
       "             '130': 'up',\n",
       "             '131': 'forward',\n",
       "             '132': 'left',\n",
       "             '133': 'up',\n",
       "             '200': 'left',\n",
       "             '201': 'left',\n",
       "             '202': 'up',\n",
       "             '203': 'down',\n",
       "             '210': 'left',\n",
       "             '211': 'down',\n",
       "             '212': 'left',\n",
       "             '213': 'right',\n",
       "             '220': 'forward',\n",
       "             '221': 'down',\n",
       "             '222': 'backward',\n",
       "             '223': 'backward',\n",
       "             '230': 'up',\n",
       "             '231': 'backward',\n",
       "             '232': 'forward',\n",
       "             '233': 'backward',\n",
       "             '300': 'left',\n",
       "             '301': 'right',\n",
       "             '302': 'up',\n",
       "             '303': 'right',\n",
       "             '310': 'backward',\n",
       "             '311': 'up',\n",
       "             '312': 'left',\n",
       "             '313': 'backward',\n",
       "             '320': 'left',\n",
       "             '321': 'down',\n",
       "             '322': 'forward',\n",
       "             '323': 'down',\n",
       "             '330': 'forward',\n",
       "             '331': 'left',\n",
       "             '332': 'left',\n",
       "             '333': 'up'})"
      ]
     },
     "metadata": {},
     "execution_count": 15
    }
   ],
   "source": [
    "policy"
   ]
  }
 ]
}