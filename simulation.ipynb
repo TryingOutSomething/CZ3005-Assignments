{
 "metadata": {
  "language_info": {
   "codemirror_mode": {
    "name": "ipython",
    "version": 3
   },
   "file_extension": ".py",
   "mimetype": "text/x-python",
   "name": "python",
   "nbconvert_exporter": "python",
   "pygments_lexer": "ipython3",
   "version": "3.7.7-final"
  },
  "orig_nbformat": 2,
  "kernelspec": {
   "name": "Python 3.7.7 64-bit",
   "display_name": "Python 3.7.7 64-bit",
   "metadata": {
    "interpreter": {
     "hash": "389f369071ec769c8513a6756aaa78ddd9b8ac29645f2b7652f4e98f6f6a97d3"
    }
   }
  }
 },
 "nbformat": 4,
 "nbformat_minor": 2,
 "cells": [
  {
   "cell_type": "code",
   "execution_count": 1,
   "metadata": {},
   "outputs": [],
   "source": [
    "# from agents.monte_carlo import MonteCarloAgent\n",
    "from environment import TreasureCube"
   ]
  },
  {
   "cell_type": "code",
   "execution_count": 3,
   "metadata": {},
   "outputs": [],
   "source": [
    "def test_cube(agent, max_episode=500, max_step=500):\n",
    "    env = TreasureCube(max_step=max_step)\n",
    "\n",
    "    for episode_num in range(0, max_episode):\n",
    "        \"\"\"Generate an episode using PI\"\"\"\n",
    "\n",
    "        state = env.reset()\n",
    "        terminate = False\n",
    "        no_of_steps = 0\n",
    "        episode_reward = 0\n",
    "\n",
    "        # Start exploration\n",
    "        while not terminate:\n",
    "            action = agent.take_action(state)\n",
    "            reward, terminate, next_state = env.step(action)\n",
    "            episode_reward += reward\n",
    "            # you can comment the following two lines, if the output is too much\n",
    "            # env.render()  # comment\n",
    "            # print(f'step: {t}, action: {action}, reward: {reward}')  # comment\n",
    "            no_of_steps += 1\n",
    "            agent.train(state, action, next_state, reward)\n",
    "            state = next_state\n",
    "        print(f'episode: {episode_num}, total_steps: {no_of_steps} episode reward: {episode_reward}')"
   ]
  },
  {
   "cell_type": "code",
   "execution_count": null,
   "metadata": {},
   "outputs": [],
   "source": []
  },
  {
   "cell_type": "code",
   "execution_count": 78,
   "metadata": {},
   "outputs": [],
   "source": [
    "action_space = ['left', 'right', 'forward', 'backward', 'up', 'down']"
   ]
  },
  {
   "cell_type": "code",
   "execution_count": 103,
   "metadata": {},
   "outputs": [],
   "source": [
    "def create_random_policy(env):\n",
    "    policy = {}\n",
    "\n",
    "    for i in range(env.dim):\n",
    "        for j in range(env.dim):\n",
    "            for k in range(env.dim):\n",
    "                p = {}\n",
    "\n",
    "                for action in action_space:\n",
    "                    p[action] = 1 / len(action_space)\n",
    "\n",
    "                policy[(i, j, k)] = p\n",
    "\n",
    "    return policy"
   ]
  },
  {
   "cell_type": "code",
   "execution_count": 80,
   "metadata": {},
   "outputs": [],
   "source": [
    "def create_state_action_policy(env, policy):\n",
    "    Q = {}\n",
    "\n",
    "    for key in policy.keys():\n",
    "        Q[key] = {action: 0.0 for action in action_space }\n",
    "\n",
    "    return Q"
   ]
  },
  {
   "cell_type": "code",
   "execution_count": 81,
   "metadata": {},
   "outputs": [],
   "source": [
    "from random import uniform, choice"
   ]
  },
  {
   "cell_type": "code",
   "execution_count": 87,
   "metadata": {},
   "outputs": [],
   "source": [
    "def run_game(env, policy, display=True):\n",
    "    env.reset()\n",
    "    episode = []\n",
    "    terminate = False\n",
    "    no_of_steps = 0\n",
    "    episode_reward = 0\n",
    "\n",
    "    while not terminate:\n",
    "        state = tuple(env.curr_pos)\n",
    "\n",
    "        if display:\n",
    "            clear_output(True)\n",
    "            env.render()\n",
    "        \n",
    "        timestep = []\n",
    "        timestep.append(state)\n",
    "        n = uniform(0, sum(policy[state].values()))\n",
    "        top_range = 0\n",
    "        for probability in policy[state].items():\n",
    "            top_range = probability[1]\n",
    "            if n < top_range:\n",
    "                action = probability[0]\n",
    "                break\n",
    "        \n",
    "        reward, terminate, next_state = env.step(action)\n",
    "        timestep.append(action)\n",
    "        timestep.append(reward)\n",
    "\n",
    "        episode.append(timestep)\n",
    "\n",
    "    if display:\n",
    "        clear_output(True)\n",
    "        env.render()\n",
    "\n",
    "    return episode"
   ]
  },
  {
   "cell_type": "code",
   "execution_count": 77,
   "metadata": {},
   "outputs": [],
   "source": [
    "def test_policy(policy, env):\n",
    "    wins = 0\n",
    "    r = 100\n",
    "    for i in range(r):\n",
    "        w = run_game(env, policy, display=False)[-1][-1]\n",
    "        if w == 1:\n",
    "            wins += 1\n",
    "    \n",
    "    return wins / r"
   ]
  },
  {
   "cell_type": "code",
   "execution_count": 106,
   "metadata": {},
   "outputs": [],
   "source": [
    "def monte_carlo_e_soft(env, episodes=100, policy=None, epsilon=0.01):\n",
    "    if not policy:\n",
    "        policy = create_random_policy(env)\n",
    "\n",
    "    Q = create_state_action_policy(env, policy)\n",
    "\n",
    "    returns = {}\n",
    "\n",
    "    for _ in range(episodes):\n",
    "        G = 0\n",
    "\n",
    "        episode = run_game(env, policy, display=False)\n",
    "\n",
    "        for i in reversed(range(len(episode))):\n",
    "            s_t, a_t, r_t = episode[i]\n",
    "            state_action = (s_t, a_t)\n",
    "            G += r_t\n",
    "\n",
    "            if not state_action in [(x[0], x[1]) for x in episode[0:i]]:\n",
    "                if returns.get(state_action):\n",
    "                    returns[state_action].append(G)\n",
    "\n",
    "                else:\n",
    "                    returns[state_action] = G\n",
    "\n",
    "                Q[s_t][a_t] = sum(returns[state_action]) / len(returns[state_action])\n",
    "\n",
    "                Q_list = list(map(lambda x: x[1], Q[s_t].items()))\n",
    "\n",
    "                indices = [i for i, x in enumerate(Q_list) if x == max(Q_list)]\n",
    "                max_Q = choice(indices)\n",
    "\n",
    "                A_star = max_Q\n",
    "\n",
    "                for a in policy[s_t].items():\n",
    "                    if a[0] == A_star:\n",
    "                        policy[s_t][a[0]] = 1 - epsilon + (epsilon / abs(sum(policy[s_t].values())))\n",
    "\n",
    "                    else:\n",
    "                        policy[s_t][a[0]] = (epsilon / abs(sum(policy[s_t].values())))\n",
    "    \n",
    "    return policy"
   ]
  },
  {
   "cell_type": "code",
   "execution_count": 108,
   "metadata": {
    "tags": []
   },
   "outputs": [
    {
     "output_type": "error",
     "ename": "TypeError",
     "evalue": "&#39;float&#39; object is not iterable",
     "traceback": [
      "\u001b[1;31m---------------------------------------------------------------------------\u001b[0m",
      "\u001b[1;31mTypeError\u001b[0m                                 Traceback (most recent call last)",
      "\u001b[1;32m&lt;ipython-input-108-8be05985b655&gt;\u001b[0m in \u001b[0;36m&lt;module&gt;\u001b[1;34m\u001b[0m\n\u001b[0;32m      1\u001b[0m \u001b[0menv\u001b[0m \u001b[1;33m=\u001b[0m \u001b[0mTreasureCube\u001b[0m\u001b[1;33m(\u001b[0m\u001b[0mmax_step\u001b[0m\u001b[1;33m=\u001b[0m\u001b[1;36m500\u001b[0m\u001b[1;33m)\u001b[0m\u001b[1;33m\u001b[0m\u001b[1;33m\u001b[0m\u001b[0m\n\u001b[1;32m----&gt; 2\u001b[1;33m \u001b[0mpolicy\u001b[0m \u001b[1;33m=\u001b[0m \u001b[0mmonte_carlo_e_soft\u001b[0m\u001b[1;33m(\u001b[0m\u001b[0menv\u001b[0m\u001b[1;33m,\u001b[0m \u001b[0mepisodes\u001b[0m\u001b[1;33m=\u001b[0m\u001b[1;36m100\u001b[0m\u001b[1;33m)\u001b[0m\u001b[1;33m\u001b[0m\u001b[1;33m\u001b[0m\u001b[0m\n\u001b[0m\u001b[0;32m      3\u001b[0m \u001b[0mtest_policy\u001b[0m\u001b[1;33m(\u001b[0m\u001b[0mpolicy\u001b[0m\u001b[1;33m,\u001b[0m \u001b[0menv\u001b[0m\u001b[1;33m)\u001b[0m\u001b[1;33m\u001b[0m\u001b[1;33m\u001b[0m\u001b[0m\n",
      "\u001b[1;32m&lt;ipython-input-106-7eed97fd0527&gt;\u001b[0m in \u001b[0;36mmonte_carlo_e_soft\u001b[1;34m(env, episodes, policy, epsilon)\u001b[0m\n\u001b[0;32m     24\u001b[0m                     \u001b[0mreturns\u001b[0m\u001b[1;33m[\u001b[0m\u001b[0mstate_action\u001b[0m\u001b[1;33m]\u001b[0m \u001b[1;33m=\u001b[0m \u001b[0mG\u001b[0m\u001b[1;33m\u001b[0m\u001b[1;33m\u001b[0m\u001b[0m\n\u001b[0;32m     25\u001b[0m \u001b[1;33m\u001b[0m\u001b[0m\n\u001b[1;32m---&gt; 26\u001b[1;33m                 \u001b[0mQ\u001b[0m\u001b[1;33m[\u001b[0m\u001b[0ms_t\u001b[0m\u001b[1;33m]\u001b[0m\u001b[1;33m[\u001b[0m\u001b[0ma_t\u001b[0m\u001b[1;33m]\u001b[0m \u001b[1;33m=\u001b[0m \u001b[0msum\u001b[0m\u001b[1;33m(\u001b[0m\u001b[0mreturns\u001b[0m\u001b[1;33m[\u001b[0m\u001b[0mstate_action\u001b[0m\u001b[1;33m]\u001b[0m\u001b[1;33m)\u001b[0m \u001b[1;33m/\u001b[0m \u001b[0mlen\u001b[0m\u001b[1;33m(\u001b[0m\u001b[0mreturns\u001b[0m\u001b[1;33m[\u001b[0m\u001b[0mstate_action\u001b[0m\u001b[1;33m]\u001b[0m\u001b[1;33m)\u001b[0m\u001b[1;33m\u001b[0m\u001b[1;33m\u001b[0m\u001b[0m\n\u001b[0m\u001b[0;32m     27\u001b[0m \u001b[1;33m\u001b[0m\u001b[0m\n\u001b[0;32m     28\u001b[0m                 \u001b[0mQ_list\u001b[0m \u001b[1;33m=\u001b[0m \u001b[0mlist\u001b[0m\u001b[1;33m(\u001b[0m\u001b[0mmap\u001b[0m\u001b[1;33m(\u001b[0m\u001b[1;32mlambda\u001b[0m \u001b[0mx\u001b[0m\u001b[1;33m:\u001b[0m \u001b[0mx\u001b[0m\u001b[1;33m[\u001b[0m\u001b[1;36m1\u001b[0m\u001b[1;33m]\u001b[0m\u001b[1;33m,\u001b[0m \u001b[0mQ\u001b[0m\u001b[1;33m[\u001b[0m\u001b[0ms_t\u001b[0m\u001b[1;33m]\u001b[0m\u001b[1;33m.\u001b[0m\u001b[0mitems\u001b[0m\u001b[1;33m(\u001b[0m\u001b[1;33m)\u001b[0m\u001b[1;33m)\u001b[0m\u001b[1;33m)\u001b[0m\u001b[1;33m\u001b[0m\u001b[1;33m\u001b[0m\u001b[0m\n",
      "\u001b[1;31mTypeError\u001b[0m: &#39;float&#39; object is not iterable"
     ]
    }
   ],
   "source": [
    "env = TreasureCube(max_step=500)\n",
    "policy = monte_carlo_e_soft(env, episodes=100)\n",
    "test_policy(policy, env)"
   ]
  },
  {
   "cell_type": "code",
   "execution_count": null,
   "metadata": {},
   "outputs": [],
   "source": []
  }
 ]
}