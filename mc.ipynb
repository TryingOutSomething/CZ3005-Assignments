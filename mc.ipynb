{
 "metadata": {
  "language_info": {
   "codemirror_mode": {
    "name": "ipython",
    "version": 3
   },
   "file_extension": ".py",
   "mimetype": "text/x-python",
   "name": "python",
   "nbconvert_exporter": "python",
   "pygments_lexer": "ipython3",
   "version": "3.7.7-final"
  },
  "orig_nbformat": 2,
  "kernelspec": {
   "name": "Python 3.7.7 64-bit",
   "display_name": "Python 3.7.7 64-bit",
   "metadata": {
    "interpreter": {
     "hash": "389f369071ec769c8513a6756aaa78ddd9b8ac29645f2b7652f4e98f6f6a97d3"
    }
   }
  }
 },
 "nbformat": 4,
 "nbformat_minor": 2,
 "cells": [
  {
   "cell_type": "code",
   "execution_count": 1,
   "metadata": {},
   "outputs": [],
   "source": [
    "import numpy as np\n",
    "from collections import defaultdict\n",
    "from environment import TreasureCube\n",
    "from pprint import pprint"
   ]
  },
  {
   "cell_type": "code",
   "execution_count": 2,
   "metadata": {},
   "outputs": [],
   "source": [
    "env = TreasureCube(max_step=500)"
   ]
  },
  {
   "cell_type": "code",
   "execution_count": 3,
   "metadata": {},
   "outputs": [],
   "source": [
    "epsilon = 0.1\n",
    "ACTION_SPACE = ['left', 'right', 'forward', 'backward', 'up', 'down']\n",
    "nA = len(ACTION_SPACE)"
   ]
  },
  {
   "cell_type": "code",
   "execution_count": 4,
   "metadata": {},
   "outputs": [],
   "source": [
    "episode_rewards_progress = []"
   ]
  },
  {
   "cell_type": "code",
   "execution_count": 5,
   "metadata": {},
   "outputs": [],
   "source": [
    "def get_epision_greedy_action_policy(Q, observation):\n",
    "    \n",
    "    A = np.ones(nA, dtype=float) * epsilon / nA\n",
    "    best_action = np.argmax(Q[observation])\n",
    "    A[best_action] += (1.0 - epsilon)\n",
    "    \n",
    "    return A"
   ]
  },
  {
   "cell_type": "code",
   "execution_count": 6,
   "metadata": {},
   "outputs": [],
   "source": [
    "def generate_episode(Q):\n",
    "    episode = []\n",
    "    current_state = env.reset()\n",
    "    # current_state = ''.join(map(str, env.curr_pos))\n",
    "    terminate = False\n",
    "    episode_reward = 0\n",
    "\n",
    "    while not terminate:\n",
    "        \n",
    "        prob_scores = get_epision_greedy_action_policy(Q,current_state)\n",
    "        action = np.random.choice(ACTION_SPACE, p=prob_scores)\n",
    "        \n",
    "        reward, terminate, next_state = env.step(action)\n",
    "        episode.append((current_state, action, reward))\n",
    "\n",
    "        episode_reward += reward\n",
    "        \n",
    "        current_state = next_state    \n",
    "    \n",
    "    episode_rewards_progress.append(episode_reward)\n",
    "\n",
    "    return episode"
   ]
  },
  {
   "cell_type": "code",
   "execution_count": 14,
   "metadata": {},
   "outputs": [],
   "source": [
    "test = defaultdict(lambda: np.zeros(nA))\n",
    "episodes = generate_episode(test)"
   ]
  },
  {
   "cell_type": "code",
   "execution_count": 7,
   "metadata": {},
   "outputs": [],
   "source": [
    "def mc_control_epsilon_greedy(total_episodes):\n",
    "  \n",
    "    returns_sum = defaultdict(float)\n",
    "    states_count = defaultdict(float)\n",
    "    \n",
    "    Q = defaultdict(lambda: np.zeros(nA)) # length of action space\n",
    "    \n",
    "    for k in range(total_episodes):\n",
    "        \n",
    "        episode = generate_episode(Q)\n",
    "        \n",
    "        state_actions_in_episode = list(set([(sar[0], sar[1]) for sar in episode]))\n",
    "        \n",
    "        for i,sa_pair in enumerate(state_actions_in_episode):\n",
    "            state, action = sa_pair\n",
    "            \n",
    "            action_index = ACTION_SPACE.index(action)\n",
    "\n",
    "            G = sum([sar[2] for i,sar in enumerate(episode[i:])])\n",
    "            \n",
    "            returns_sum[sa_pair] += G\n",
    "            states_count[sa_pair] += 1.0\n",
    "            Q[state][action_index] = returns_sum[sa_pair] / states_count[sa_pair]\n",
    "        \n",
    "        \n",
    "    return Q"
   ]
  },
  {
   "cell_type": "code",
   "execution_count": 8,
   "metadata": {},
   "outputs": [
    {
     "output_type": "execute_result",
     "data": {
      "text/plain": [
       "defaultdict(<function __main__.mc_control_epsilon_greedy.<locals>.<lambda>()>,\n",
       "            {'000': array([-5.33241758, -6.47397959, -5.11947368, -4.85978261, -4.7795571 ,\n",
       "                    -5.765     ]),\n",
       "             '001': array([-6.37855362, -5.93258145, -7.02047478, -5.31374622, -5.4762533 ,\n",
       "                    -6.09040404]),\n",
       "             '101': array([-6.8025641 , -9.0047619 , -5.83232975, -9.34411765, -7.83469388,\n",
       "                    -9.80952381]),\n",
       "             '201': array([ -8.10365854,  -8.47073171,  -9.30106383,  -5.64680711,\n",
       "                    -10.98382353,  -9.98974359]),\n",
       "             '202': array([-10.26119403,  -5.12734177,  -9.99076923,  -7.30335731,\n",
       "                     -9.75689655,  -9.025     ]),\n",
       "             '301': array([-12.10235294, -10.35714286, -10.72162162,  -9.28714286,\n",
       "                     -7.04980211, -10.29295775]),\n",
       "             '300': array([ -8.20697674,  -7.7195122 ,  -8.50363636,  -9.98823529,\n",
       "                     -6.70390438, -12.01836735]),\n",
       "             '200': array([ -7.33157895,  -9.32777778,  -6.21751085, -10.155     ,\n",
       "                     -8.28695652,  -9.02372881]),\n",
       "             '211': array([ -6.46891892,  -7.83310345,  -4.84352039,  -7.51134752,\n",
       "                     -9.35661765, -10.13443709]),\n",
       "             '111': array([ -8.955     ,  -5.14779249,  -8.41603774, -10.8       ,\n",
       "                    -11.01481481,  -6.91612903]),\n",
       "             '011': array([-5.84701987, -6.89470588, -5.6047619 , -4.60719192, -6.51973684,\n",
       "                    -6.20266667]),\n",
       "             '002': array([-7.05806452, -4.60735052, -6.83888889, -6.78065934, -5.91025641,\n",
       "                    -7.28658537]),\n",
       "             '102': array([-9.68979592, -5.53584906, -6.92156334, -9.46734694, -7.90851064,\n",
       "                    -7.55121951]),\n",
       "             '103': array([-14.11428571, -10.56      ,  -8.5362949 , -10.775     ,\n",
       "                    -14.41538462, -15.10714286]),\n",
       "             '203': array([ -7.76097561, -10.47625   ,  -6.27174447,  -8.39634146,\n",
       "                     -9.53486239,  -9.46896552]),\n",
       "             '303': array([ -9.75913978, -10.65636364, -10.62272727,  -6.62541833,\n",
       "                    -10.79711538, -11.36168224]),\n",
       "             '302': array([ -9.98873239,  -9.16918605,  -7.77713912,  -9.79344262,\n",
       "                     -8.42573099, -10.69702381]),\n",
       "             '100': array([-8.63882353, -5.79330025, -7.38352941, -9.17625   , -8.12247191,\n",
       "                    -6.94541522]),\n",
       "             '313': array([ -8.78953488, -10.575     ,  -8.33292683,  -6.32466488,\n",
       "                     -7.86687042,  -9.19090909]),\n",
       "             '213': array([-10.27446809,  -5.66995169,  -8.86226415,  -8.34035088,\n",
       "                     -9.45043478, -10.26666667]),\n",
       "             '311': array([-10.11926606,  -6.7025974 ,  -9.98842105,  -6.60734086,\n",
       "                     -5.20557769,  -9.66761905]),\n",
       "             '110': array([-9.11369863, -9.09433962, -7.72394366, -7.27666667, -9.55      ,\n",
       "                    -5.29366812]),\n",
       "             '310': array([ -9.81      , -11.23225806, -12.70909091, -10.38888889,\n",
       "                     -7.07354312,  -9.61724138]),\n",
       "             '010': array([-6.8468254 , -7.08688525, -6.16714286, -4.89452355, -6.8712    ,\n",
       "                    -5.18632479]),\n",
       "             '021': array([ -8.41555556,  -5.2828247 ,  -6.4027027 ,  -6.73061224,\n",
       "                    -11.05      ,  -7.21860465]),\n",
       "             '121': array([-9.9609375 , -8.06575342, -8.34318182, -9.48536585, -5.35043137,\n",
       "                    -8.22325581]),\n",
       "             '221': array([-10.12571429,  -7.80740741,  -6.86739857,  -9.3754386 ,\n",
       "                     -7.09818182,  -9.55438596]),\n",
       "             '321': array([-8.27659574, -5.06505112, -7.6037037 , -8.49270833, -8.5505618 ,\n",
       "                    -7.51341463]),\n",
       "             '220': array([-10.6137931 ,  -8.26451613, -11.545     , -11.47407407,\n",
       "                     -6.81145114,  -9.24347826]),\n",
       "             '210': array([ -5.80974456,  -8.41041667,  -6.90526316,  -9.18311688,\n",
       "                     -7.61041667, -10.95454545]),\n",
       "             '120': array([-11.56875   , -11.77692308,  -5.04323432,  -9.77407407,\n",
       "                     -8.52774566,  -8.61111111]),\n",
       "             '020': array([-8.94722222, -6.7142329 , -8.24705882, -8.84473684, -7.46888889,\n",
       "                    -7.49074074]),\n",
       "             '022': array([ -7.08979592, -10.1452381 ,  -4.70944181,  -7.33333333,\n",
       "                     -8.29298246,  -8.97659574]),\n",
       "             '023': array([-10.75909091, -10.20408163,  -8.20444444, -11.13636364,\n",
       "                     -7.32888889,  -7.16627907]),\n",
       "             '012': array([-6.35833333, -7.48461538, -4.65068041, -7.78135593, -5.80923077,\n",
       "                    -8.06515152]),\n",
       "             '320': array([-11.04516129,  -5.79852105,  -9.59393939, -10.21714286,\n",
       "                     -9.02571429,  -8.10285714]),\n",
       "             '003': array([-10.47058824,  -6.20820189,  -8.44615385, -11.68461538,\n",
       "                     -6.4       ,  -9.85      ]),\n",
       "             '112': array([-8.21132075, -5.53269231, -4.53123953, -6.66440678, -8.65151515,\n",
       "                    -5.56440678]),\n",
       "             '122': array([-8.31643836, -8.36      , -5.15014245, -7.125     , -8.40821918,\n",
       "                    -7.45974026]),\n",
       "             '223': array([-9.44807692, -8.37659574, -6.87016706, -7.03333333, -8.62586207,\n",
       "                    -5.65106007]),\n",
       "             '323': array([-8.78734177, -6.96456693, -7.16292135, -7.80909091, -5.68834877,\n",
       "                    -6.53703704]),\n",
       "             '312': array([-10.24821429,  -7.17037037,  -9.39777778,  -6.23405439,\n",
       "                     -9.396     ,  -9.56304348]),\n",
       "             '322': array([-9.34926471, -4.47444973, -7.22484076, -7.61366906, -8.922     ,\n",
       "                    -7.43484848]),\n",
       "             '113': array([ -9.49148936,  -8.12926829,  -9.60909091, -11.44857143,\n",
       "                     -6.69142462,  -8.04117647]),\n",
       "             '212': array([-7.19237288, -6.04848485, -8.68319328, -8.23628319, -7.65826772,\n",
       "                    -4.56890152]),\n",
       "             '222': array([-6.44343434, -6.0820698 , -4.29363188, -8.81348315, -6.61511628,\n",
       "                    -7.07755102]),\n",
       "             '123': array([-10.26923077, -13.27727273,  -9.47307692,  -9.24375   ,\n",
       "                     -9.34545455,  -7.82779783]),\n",
       "             '013': array([-7.22884615, -6.83333333, -8.09166667, -5.40772627, -9.13823529,\n",
       "                    -7.98347458]),\n",
       "             '032': array([-5.38581184, -8.15531915, -6.855     , -9.86034483, -8.42040816,\n",
       "                    -7.68108108]),\n",
       "             '132': array([ -8.56896552, -12.35625   ,  -9.15      ,  -9.27692308,\n",
       "                    -10.46666667,  -6.35175333]),\n",
       "             '233': array([-10.99230769,  -7.975     ,  -5.72675439,  -8.82777778,\n",
       "                     -7.68421053,  -7.37235772]),\n",
       "             '232': array([-8.38795181, -7.36619718, -6.29930314, -5.61967742, -7.44057971,\n",
       "                    -7.36521739]),\n",
       "             '332': array([-7.86587838, -6.58009709, -3.52438636, -6.22961609, -6.16327212,\n",
       "                    -5.37821782]),\n",
       "             '031': array([-8.00681818, -5.11804261, -7.94131737, -7.37150259, -7.74841438,\n",
       "                    -9.12243902]),\n",
       "             '331': array([-7.76179775, -7.15121951, -7.09462366, -7.65862069, -4.25593472,\n",
       "                    -8.56633166]),\n",
       "             '231': array([-8.04126984, -5.2422433 , -7.32965517, -9.48639456, -7.50142857,\n",
       "                    -8.77293233]),\n",
       "             '131': array([-8.4264    , -9.07687075, -8.82698413, -8.41904762, -8.03076923,\n",
       "                    -6.56367123]),\n",
       "             '130': array([-9.75045045, -9.43214286, -9.94727273, -9.61929825, -6.58217456,\n",
       "                    -8.16041056]),\n",
       "             '230': array([ -9.18510638,  -8.69117647, -10.49166667, -10.44090909,\n",
       "                     -6.83531022,  -9.43555556]),\n",
       "             '133': array([-12.01538462,  -9.83809524,  -7.75      ,  -7.38227848,\n",
       "                     -9.12857143, -12.51666667]),\n",
       "             '330': array([-9.60714286, -9.81551724, -7.4004635 , -9.90925926, -8.75901639,\n",
       "                    -7.97768595]),\n",
       "             '030': array([-10.20588235,  -7.39344262,  -8.83673469,  -7.85925926,\n",
       "                     -4.76975398,  -9.83134328]),\n",
       "             '033': array([-10.20588235, -10.14313725,  -9.41029412,  -9.95849057,\n",
       "                     -7.21753986, -10.08493151])})"
      ]
     },
     "metadata": {},
     "execution_count": 8
    }
   ],
   "source": [
    "q_table = mc_control_epsilon_greedy(5000)\n",
    "q_table"
   ]
  },
  {
   "cell_type": "code",
   "execution_count": 9,
   "metadata": {},
   "outputs": [
    {
     "output_type": "execute_result",
     "data": {
      "text/plain": [
       "4"
      ]
     },
     "metadata": {},
     "execution_count": 9
    }
   ],
   "source": [
    "np.argmax(q_table['000'])"
   ]
  },
  {
   "cell_type": "code",
   "execution_count": 10,
   "metadata": {},
   "outputs": [],
   "source": [
    "optimal_policy = defaultdict(str)"
   ]
  },
  {
   "cell_type": "code",
   "execution_count": 11,
   "metadata": {},
   "outputs": [
    {
     "output_type": "execute_result",
     "data": {
      "text/plain": [
       "defaultdict(str,\n",
       "            {'000': 'up',\n",
       "             '001': 'backward',\n",
       "             '101': 'forward',\n",
       "             '201': 'backward',\n",
       "             '202': 'right',\n",
       "             '301': 'up',\n",
       "             '300': 'up',\n",
       "             '200': 'forward',\n",
       "             '211': 'forward',\n",
       "             '111': 'right',\n",
       "             '011': 'backward',\n",
       "             '002': 'right',\n",
       "             '102': 'right',\n",
       "             '103': 'forward',\n",
       "             '203': 'forward',\n",
       "             '303': 'backward',\n",
       "             '302': 'forward',\n",
       "             '100': 'right',\n",
       "             '313': 'backward',\n",
       "             '213': 'right',\n",
       "             '311': 'up',\n",
       "             '110': 'down',\n",
       "             '310': 'up',\n",
       "             '010': 'backward',\n",
       "             '021': 'right',\n",
       "             '121': 'up',\n",
       "             '221': 'forward',\n",
       "             '321': 'right',\n",
       "             '220': 'up',\n",
       "             '210': 'left',\n",
       "             '120': 'forward',\n",
       "             '020': 'right',\n",
       "             '022': 'forward',\n",
       "             '023': 'down',\n",
       "             '012': 'forward',\n",
       "             '320': 'right',\n",
       "             '003': 'right',\n",
       "             '112': 'forward',\n",
       "             '122': 'forward',\n",
       "             '223': 'down',\n",
       "             '323': 'up',\n",
       "             '312': 'backward',\n",
       "             '322': 'right',\n",
       "             '113': 'up',\n",
       "             '212': 'down',\n",
       "             '222': 'forward',\n",
       "             '123': 'down',\n",
       "             '013': 'backward',\n",
       "             '032': 'left',\n",
       "             '132': 'down',\n",
       "             '233': 'forward',\n",
       "             '232': 'backward',\n",
       "             '332': 'forward',\n",
       "             '031': 'right',\n",
       "             '331': 'up',\n",
       "             '231': 'right',\n",
       "             '131': 'down',\n",
       "             '130': 'up',\n",
       "             '230': 'up',\n",
       "             '133': 'backward',\n",
       "             '330': 'forward',\n",
       "             '030': 'up',\n",
       "             '033': 'up'})"
      ]
     },
     "metadata": {},
     "execution_count": 11
    }
   ],
   "source": [
    "for state in q_table:\n",
    "    action_space_index = np.argmax(q_table[state])\n",
    "    action = ACTION_SPACE[action_space_index]\n",
    "\n",
    "    optimal_policy[state] = action\n",
    "\n",
    "optimal_policy"
   ]
  },
  {
   "cell_type": "code",
   "execution_count": 12,
   "metadata": {},
   "outputs": [
    {
     "output_type": "execute_result",
     "data": {
      "text/plain": [
       "2985"
      ]
     },
     "metadata": {},
     "execution_count": 12
    }
   ],
   "source": [
    "episode_rewards_progress.index(max(episode_rewards_progress))"
   ]
  }
 ]
}